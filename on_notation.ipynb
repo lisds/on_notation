{
 "cells": [
  {
   "cell_type": "markdown",
   "id": "79af9c71",
   "metadata": {},
   "source": [
    "# On notation"
   ]
  },
  {
   "cell_type": "code",
   "execution_count": null,
   "id": "aa4d72cb",
   "metadata": {},
   "outputs": [],
   "source": [
    "# We will hardly be using code in this exercise, but ...\n",
    "\n",
    "# For a test later on.\n",
    "from hashlib import md5\n",
    "\n",
    "import numpy as np\n",
    "\n",
    "# For displaying some mathematics.\n",
    "from IPython.display import display, Markdown\n",
    "\n",
    "# Automated tests.\n",
    "from client.api.notebook import Notebook\n",
    "ok = Notebook('on_notation.ok')"
   ]
  },
  {
   "cell_type": "markdown",
   "id": "b48f2122",
   "metadata": {},
   "source": [
    "First let's make some fake example data, for checking our calculations later."
   ]
  },
  {
   "cell_type": "code",
   "execution_count": null,
   "id": "3cd05e9a",
   "metadata": {},
   "outputs": [],
   "source": [
    "# You can use these for checking your calculations, if you like.\n",
    "# Example data\n",
    "x = np.array([10.5, 9, 10, 11, 9.5, 9.8])\n",
    "y = np.array([ 8,  4.5, 7, 10.5, 5,  6.8])\n",
    "# Example slope and intercept.\n",
    "b = 3.5\n",
    "c = -20"
   ]
  },
  {
   "cell_type": "markdown",
   "id": "8dd9e8d4",
   "metadata": {},
   "source": [
    "As revision, you might want to look at the [notation for linear regression\n",
    "page](https://nbviewer.org/github/lisds/dsip/blob/built-linreg-note/lin_regression_notation.ipynb)\n",
    "\n",
    "Recall that we have a *vector* of $n$ $x$ values $[x_1, x_2, ..., x_n]$. Write\n",
    "this vector as $\\vec{x}$.  In the example above, the $\\vec{x}$ values were the\n",
    "`income` values.\n",
    "\n",
    "We have a corresponding vector of $n$ $y$ values $[y_1, y_2, ..., y_n]$. Write\n",
    "this vector as $\\vec{y}$.  In the example, the $\\vec{y}$ were the `prestige`\n",
    "scores.\n",
    "\n",
    "We are trying to predict the $\\vec{y}$ values using the $\\vec{x}$ values.  We\n",
    "have chosen a straight-line as the relationship between $\\vec{x}$ and\n",
    "$\\vec{y}$.   We define the straight line with a slope $b$ (a single number, AKA *scalar* ) and the intercept $c$ (another scalar).\n",
    "\n",
    "Our predictions for the each $y$ value form another vector:\n",
    "\n",
    "$$\\hat{\\vec{y}}$$\n",
    "\n",
    "The `^` above the $\\vec{y}$ means \"fitted\" or \"estimated\".   According to our\n",
    "straight line:\n",
    "\n",
    "$$\n",
    "\\vec{\\hat{y}} = b \\vec{x} + c\n",
    "$$\n",
    "\n",
    "For each $y$ value, we have a difference between our prediction and the actual value.  This is true for all values in $\\vec{y} = [y_1, y_2, ..., y_n]$.  The first value in $\\vec{x}$ is $x_1$, and in general, the $i$ th value in $\\vec{x}$ is $x_i$.  So the error for the $i$ th value (where $i$ can be any value from 1 through $n$) is:\n",
    "\n",
    "$$\n",
    "e_i = y_i - \\hat{y}_i\n",
    "$$\n",
    "\n",
    "By the definition of the estimated values above:\n",
    "\n",
    "$$\n",
    "e_i = y_i - \\hat{y}_i = y_i - (b x_i + c)\n",
    "$$"
   ]
  },
  {
   "cell_type": "markdown",
   "id": "242d1c64",
   "metadata": {},
   "source": [
    "## Question 1\n",
    "\n",
    "Say I have given you *only* $\\vec{e}$ and $\\vec{y}$.  How would you fill in the following equation?\n",
    "\n",
    "$$\n",
    "\\hat{\\vec{y}} = ...\n",
    "$$"
   ]
  },
  {
   "cell_type": "code",
   "execution_count": null,
   "id": "0f804731",
   "metadata": {},
   "outputs": [],
   "source": [
    "#- Code cell for checking results (and maybe, showing solution)."
   ]
  },
  {
   "cell_type": "markdown",
   "id": "04e4254d",
   "metadata": {},
   "source": [
    "## Question 2\n",
    "\n",
    "Say I have given you $b$, $x_3$ and $\\hat{y}_3$.   How would you get:\n",
    "\n",
    "$$\n",
    "c = ...\n",
    "$$"
   ]
  },
  {
   "cell_type": "code",
   "execution_count": null,
   "id": "63ba1d3e",
   "metadata": {},
   "outputs": [],
   "source": [
    "#- Code cell again"
   ]
  },
  {
   "cell_type": "markdown",
   "id": "1a7c135b",
   "metadata": {},
   "source": [
    "## Question 3\n",
    "\n",
    "Say I have a 1D array `x` in Python, where `n = len(x)`.  I also have a candidate slope `b` and a candidate intercept `c`.   What is the Python code to calculate the fitted values.\n",
    "\n",
    "**Hint** - you don't need `n` for this calculation - I just put that in for clarity."
   ]
  },
  {
   "cell_type": "code",
   "execution_count": null,
   "id": "5d564b22",
   "metadata": {},
   "outputs": [],
   "source": [
    "y_hat = ..."
   ]
  },
  {
   "cell_type": "markdown",
   "id": "14de8b96",
   "metadata": {},
   "source": [
    "## Question 4\n",
    "\n",
    "Lets say I know that my friend has found another slope $d$, and I know what\n",
    "that slope is.  Let's even say that $d = 3$.\n",
    "\n",
    "I also have their calculated error for the third value $e_3$.  Let's say that\n",
    "$e_3 = 3.2$.   I already have all the $\\vec{x}$ and $\\vec{y}$ values, so I know that (in my case) $x_3 = 10$ and $y_3 = 7$.\n",
    "\n",
    "What was my friend's value for the intercept $c$?  I mean the actual value, rather than the equation for the value.\n",
    "\n",
    "**Hint** - as usual, a piece of paper will help."
   ]
  },
  {
   "cell_type": "code",
   "execution_count": null,
   "id": "e72da283",
   "metadata": {},
   "outputs": [],
   "source": [
    "# For your arrangement\n",
    "d = 3\n",
    "e_3 = 3.2\n",
    "x_3 = 10\n",
    "y_3 = 7\n",
    "c = ...\n",
    "# Show the result\n",
    "c"
   ]
  },
  {
   "cell_type": "code",
   "execution_count": null,
   "id": "98ae3cd6",
   "metadata": {},
   "outputs": [],
   "source": [
    "assert c < 0\n",
    "assert np.isclose((c - np.round(c)), -0.2)\n",
    "# Do a test of the value that doesn't give away the value.\n",
    "c_hashed = md5(str(c).encode('ascii')).hexdigest()\n",
    "assert  c_hashed == '45d39432886a5ad288d62716920a6b17'"
   ]
  }
 ],
 "metadata": {
  "jupytext": {
   "notebook_metadata_filter": "all,-language_info",
   "split_at_heading": true,
   "text_representation": {
    "extension": ".Rmd",
    "format_name": "rmarkdown",
    "format_version": "1.2",
    "jupytext_version": "1.15.2"
   }
  },
  "kernelspec": {
   "display_name": "Python 3 (ipykernel)",
   "language": "python",
   "name": "python3"
  }
 },
 "nbformat": 4,
 "nbformat_minor": 5
}
